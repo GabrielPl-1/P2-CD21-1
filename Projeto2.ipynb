{
 "cells": [
  {
   "cell_type": "markdown",
   "metadata": {},
   "source": [
    "# Projeto 2 - Ciência dos Dados"
   ]
  },
  {
   "cell_type": "markdown",
   "metadata": {},
   "source": [
    "## Engenharia 2A\n",
    "\n",
    "\n",
    "### Gustavo Pinheiro de Carvalho\n",
    "### Celina Vieira de Melo\n",
    "### Gabriel Penna de Lima\n",
    "### Maria Eduarda Mourão"
   ]
  },
  {
   "cell_type": "markdown",
   "metadata": {},
   "source": [
    "## Análise dos dados"
   ]
  },
  {
   "cell_type": "code",
   "execution_count": 165,
   "metadata": {},
   "outputs": [],
   "source": [
    "%matplotlib inline\n",
    "import pandas as pd\n",
    "import os\n",
    "import matplotlib.pyplot as plt\n",
    "import seaborn as sns\n",
    "import numpy as np\n",
    "import statsmodels.api as sm\n",
    "from mpl_toolkits.mplot3d import Axes3D\n",
    "\n",
    "\n",
    "from scipy import stats"
   ]
  },
  {
   "cell_type": "code",
   "execution_count": 166,
   "metadata": {},
   "outputs": [
    {
     "name": "stdout",
     "output_type": "stream",
     "text": [
      "/Users/gustavopinheiro/P2-CD21-1\n"
     ]
    }
   ],
   "source": [
    "print(os.getcwd())"
   ]
  },
  {
   "cell_type": "code",
   "execution_count": 167,
   "metadata": {
    "scrolled": true
   },
   "outputs": [
    {
     "data": {
      "text/html": [
       "<div>\n",
       "<style scoped>\n",
       "    .dataframe tbody tr th:only-of-type {\n",
       "        vertical-align: middle;\n",
       "    }\n",
       "\n",
       "    .dataframe tbody tr th {\n",
       "        vertical-align: top;\n",
       "    }\n",
       "\n",
       "    .dataframe thead th {\n",
       "        text-align: right;\n",
       "    }\n",
       "</style>\n",
       "<table border=\"1\" class=\"dataframe\">\n",
       "  <thead>\n",
       "    <tr style=\"text-align: right;\">\n",
       "      <th></th>\n",
       "      <th>Carimbo de data/hora</th>\n",
       "      <th>Nome\\n</th>\n",
       "      <th>Idade</th>\n",
       "      <th>Sexo</th>\n",
       "      <th>Ativa</th>\n",
       "      <th>Minutos</th>\n",
       "      <th>Influenciou</th>\n",
       "      <th>Superar</th>\n",
       "      <th>Vontade</th>\n",
       "    </tr>\n",
       "  </thead>\n",
       "  <tbody>\n",
       "    <tr>\n",
       "      <td>0</td>\n",
       "      <td>2021-05-20 10:15:08.814</td>\n",
       "      <td>Gabrielle</td>\n",
       "      <td>18</td>\n",
       "      <td>Feminino</td>\n",
       "      <td>Não</td>\n",
       "      <td>70</td>\n",
       "      <td>Sim</td>\n",
       "      <td>Comecei a fazer exercícios em casa</td>\n",
       "      <td>Talvez</td>\n",
       "    </tr>\n",
       "    <tr>\n",
       "      <td>1</td>\n",
       "      <td>2021-05-20 10:15:47.122</td>\n",
       "      <td>Felipe Defendi</td>\n",
       "      <td>17</td>\n",
       "      <td>Masculino</td>\n",
       "      <td>Talvez</td>\n",
       "      <td>30</td>\n",
       "      <td>Não</td>\n",
       "      <td>Outros</td>\n",
       "      <td>Sim</td>\n",
       "    </tr>\n",
       "    <tr>\n",
       "      <td>2</td>\n",
       "      <td>2021-05-20 10:18:40.453</td>\n",
       "      <td>Davi Bonsi</td>\n",
       "      <td>18</td>\n",
       "      <td>Masculino</td>\n",
       "      <td>Sim</td>\n",
       "      <td>300</td>\n",
       "      <td>Sim</td>\n",
       "      <td>Fiquei dependente à reabertura das academias</td>\n",
       "      <td>Sim</td>\n",
       "    </tr>\n",
       "    <tr>\n",
       "      <td>3</td>\n",
       "      <td>2021-05-20 10:20:29.293</td>\n",
       "      <td>Isabela Domingues</td>\n",
       "      <td>17</td>\n",
       "      <td>Feminino</td>\n",
       "      <td>Não</td>\n",
       "      <td>120</td>\n",
       "      <td>Sim</td>\n",
       "      <td>Comecei a fazer exercícios em casa</td>\n",
       "      <td>Sim</td>\n",
       "    </tr>\n",
       "    <tr>\n",
       "      <td>4</td>\n",
       "      <td>2021-05-20 10:20:57.775</td>\n",
       "      <td>Paola Gragnolati Fernandes</td>\n",
       "      <td>18</td>\n",
       "      <td>Feminino</td>\n",
       "      <td>Talvez</td>\n",
       "      <td>140</td>\n",
       "      <td>Sim</td>\n",
       "      <td>Comecei a fazer exercícios em casa</td>\n",
       "      <td>Não</td>\n",
       "    </tr>\n",
       "    <tr>\n",
       "      <td>...</td>\n",
       "      <td>...</td>\n",
       "      <td>...</td>\n",
       "      <td>...</td>\n",
       "      <td>...</td>\n",
       "      <td>...</td>\n",
       "      <td>...</td>\n",
       "      <td>...</td>\n",
       "      <td>...</td>\n",
       "      <td>...</td>\n",
       "    </tr>\n",
       "    <tr>\n",
       "      <td>165</td>\n",
       "      <td>2021-05-21 10:41:20.303</td>\n",
       "      <td>Zuleika Syudart de lucena feitosa</td>\n",
       "      <td>56</td>\n",
       "      <td>Feminino</td>\n",
       "      <td>Sim</td>\n",
       "      <td>360</td>\n",
       "      <td>Sim</td>\n",
       "      <td>Comecei a fazer exercícios em casa</td>\n",
       "      <td>Sim</td>\n",
       "    </tr>\n",
       "    <tr>\n",
       "      <td>166</td>\n",
       "      <td>2021-05-21 10:51:12.881</td>\n",
       "      <td>Daniela</td>\n",
       "      <td>19</td>\n",
       "      <td>Feminino</td>\n",
       "      <td>Sim</td>\n",
       "      <td>200</td>\n",
       "      <td>Sim</td>\n",
       "      <td>Comecei a fazer exercícios em casa</td>\n",
       "      <td>Sim</td>\n",
       "    </tr>\n",
       "    <tr>\n",
       "      <td>167</td>\n",
       "      <td>2021-05-21 13:07:05.650</td>\n",
       "      <td>Ticiana Hissa</td>\n",
       "      <td>43</td>\n",
       "      <td>Feminino</td>\n",
       "      <td>Sim</td>\n",
       "      <td>3000</td>\n",
       "      <td>Não</td>\n",
       "      <td>Comecei a fazer exercícios em casa</td>\n",
       "      <td>Não</td>\n",
       "    </tr>\n",
       "    <tr>\n",
       "      <td>168</td>\n",
       "      <td>2021-05-21 13:14:57.503</td>\n",
       "      <td>NaN</td>\n",
       "      <td>43</td>\n",
       "      <td>Masculino</td>\n",
       "      <td>Sim</td>\n",
       "      <td>360</td>\n",
       "      <td>Sim</td>\n",
       "      <td>Comecei a fazer exercícios em casa</td>\n",
       "      <td>Sim</td>\n",
       "    </tr>\n",
       "    <tr>\n",
       "      <td>169</td>\n",
       "      <td>2021-05-21 14:50:15.148</td>\n",
       "      <td>Marcia</td>\n",
       "      <td>58</td>\n",
       "      <td>Feminino</td>\n",
       "      <td>Sim</td>\n",
       "      <td>6</td>\n",
       "      <td>Não</td>\n",
       "      <td>Comecei a fazer exercícios em casa</td>\n",
       "      <td>Sim</td>\n",
       "    </tr>\n",
       "  </tbody>\n",
       "</table>\n",
       "<p>170 rows × 9 columns</p>\n",
       "</div>"
      ],
      "text/plain": [
       "       Carimbo de data/hora                             Nome\\n  Idade  \\\n",
       "0   2021-05-20 10:15:08.814                          Gabrielle     18   \n",
       "1   2021-05-20 10:15:47.122                     Felipe Defendi     17   \n",
       "2   2021-05-20 10:18:40.453                         Davi Bonsi     18   \n",
       "3   2021-05-20 10:20:29.293                  Isabela Domingues     17   \n",
       "4   2021-05-20 10:20:57.775         Paola Gragnolati Fernandes     18   \n",
       "..                      ...                                ...    ...   \n",
       "165 2021-05-21 10:41:20.303  Zuleika Syudart de lucena feitosa     56   \n",
       "166 2021-05-21 10:51:12.881                            Daniela     19   \n",
       "167 2021-05-21 13:07:05.650                      Ticiana Hissa     43   \n",
       "168 2021-05-21 13:14:57.503                                NaN     43   \n",
       "169 2021-05-21 14:50:15.148                             Marcia     58   \n",
       "\n",
       "          Sexo   Ativa  Minutos Influenciou  \\\n",
       "0     Feminino     Não       70         Sim   \n",
       "1    Masculino  Talvez       30         Não   \n",
       "2    Masculino     Sim      300         Sim   \n",
       "3     Feminino     Não      120         Sim   \n",
       "4     Feminino  Talvez      140         Sim   \n",
       "..         ...     ...      ...         ...   \n",
       "165   Feminino     Sim      360         Sim   \n",
       "166   Feminino     Sim      200         Sim   \n",
       "167   Feminino     Sim     3000         Não   \n",
       "168  Masculino     Sim      360         Sim   \n",
       "169   Feminino     Sim        6         Não   \n",
       "\n",
       "                                          Superar Vontade  \n",
       "0              Comecei a fazer exercícios em casa  Talvez  \n",
       "1                                          Outros     Sim  \n",
       "2    Fiquei dependente à reabertura das academias     Sim  \n",
       "3              Comecei a fazer exercícios em casa     Sim  \n",
       "4              Comecei a fazer exercícios em casa     Não  \n",
       "..                                            ...     ...  \n",
       "165            Comecei a fazer exercícios em casa     Sim  \n",
       "166            Comecei a fazer exercícios em casa     Sim  \n",
       "167            Comecei a fazer exercícios em casa     Não  \n",
       "168            Comecei a fazer exercícios em casa     Sim  \n",
       "169            Comecei a fazer exercícios em casa     Sim  \n",
       "\n",
       "[170 rows x 9 columns]"
      ]
     },
     "execution_count": 167,
     "metadata": {},
     "output_type": "execute_result"
    }
   ],
   "source": [
    "dados = pd.read_excel('Pesquisa.xlsx')\n",
    "dados"
   ]
  },
  {
   "cell_type": "markdown",
   "metadata": {},
   "source": [
    "### Carimbo de data/hora"
   ]
  },
  {
   "cell_type": "markdown",
   "metadata": {},
   "source": [
    "Para a análise do nosso problema, julgamos que essa coluna não possui nenhuma relação com o objetivo que estamos buscando, portanto, resolvemos tira-lá."
   ]
  },
  {
   "cell_type": "code",
   "execution_count": 168,
   "metadata": {
    "scrolled": true
   },
   "outputs": [
    {
     "data": {
      "text/html": [
       "<div>\n",
       "<style scoped>\n",
       "    .dataframe tbody tr th:only-of-type {\n",
       "        vertical-align: middle;\n",
       "    }\n",
       "\n",
       "    .dataframe tbody tr th {\n",
       "        vertical-align: top;\n",
       "    }\n",
       "\n",
       "    .dataframe thead th {\n",
       "        text-align: right;\n",
       "    }\n",
       "</style>\n",
       "<table border=\"1\" class=\"dataframe\">\n",
       "  <thead>\n",
       "    <tr style=\"text-align: right;\">\n",
       "      <th></th>\n",
       "      <th>Nome\\n</th>\n",
       "      <th>Idade</th>\n",
       "      <th>Sexo</th>\n",
       "      <th>Ativa</th>\n",
       "      <th>Minutos</th>\n",
       "      <th>Influenciou</th>\n",
       "      <th>Superar</th>\n",
       "      <th>Vontade</th>\n",
       "    </tr>\n",
       "  </thead>\n",
       "  <tbody>\n",
       "    <tr>\n",
       "      <td>0</td>\n",
       "      <td>Gabrielle</td>\n",
       "      <td>18</td>\n",
       "      <td>Feminino</td>\n",
       "      <td>Não</td>\n",
       "      <td>70</td>\n",
       "      <td>Sim</td>\n",
       "      <td>Comecei a fazer exercícios em casa</td>\n",
       "      <td>Talvez</td>\n",
       "    </tr>\n",
       "    <tr>\n",
       "      <td>1</td>\n",
       "      <td>Felipe Defendi</td>\n",
       "      <td>17</td>\n",
       "      <td>Masculino</td>\n",
       "      <td>Talvez</td>\n",
       "      <td>30</td>\n",
       "      <td>Não</td>\n",
       "      <td>Outros</td>\n",
       "      <td>Sim</td>\n",
       "    </tr>\n",
       "    <tr>\n",
       "      <td>2</td>\n",
       "      <td>Davi Bonsi</td>\n",
       "      <td>18</td>\n",
       "      <td>Masculino</td>\n",
       "      <td>Sim</td>\n",
       "      <td>300</td>\n",
       "      <td>Sim</td>\n",
       "      <td>Fiquei dependente à reabertura das academias</td>\n",
       "      <td>Sim</td>\n",
       "    </tr>\n",
       "    <tr>\n",
       "      <td>3</td>\n",
       "      <td>Isabela Domingues</td>\n",
       "      <td>17</td>\n",
       "      <td>Feminino</td>\n",
       "      <td>Não</td>\n",
       "      <td>120</td>\n",
       "      <td>Sim</td>\n",
       "      <td>Comecei a fazer exercícios em casa</td>\n",
       "      <td>Sim</td>\n",
       "    </tr>\n",
       "    <tr>\n",
       "      <td>4</td>\n",
       "      <td>Paola Gragnolati Fernandes</td>\n",
       "      <td>18</td>\n",
       "      <td>Feminino</td>\n",
       "      <td>Talvez</td>\n",
       "      <td>140</td>\n",
       "      <td>Sim</td>\n",
       "      <td>Comecei a fazer exercícios em casa</td>\n",
       "      <td>Não</td>\n",
       "    </tr>\n",
       "    <tr>\n",
       "      <td>...</td>\n",
       "      <td>...</td>\n",
       "      <td>...</td>\n",
       "      <td>...</td>\n",
       "      <td>...</td>\n",
       "      <td>...</td>\n",
       "      <td>...</td>\n",
       "      <td>...</td>\n",
       "      <td>...</td>\n",
       "    </tr>\n",
       "    <tr>\n",
       "      <td>165</td>\n",
       "      <td>Zuleika Syudart de lucena feitosa</td>\n",
       "      <td>56</td>\n",
       "      <td>Feminino</td>\n",
       "      <td>Sim</td>\n",
       "      <td>360</td>\n",
       "      <td>Sim</td>\n",
       "      <td>Comecei a fazer exercícios em casa</td>\n",
       "      <td>Sim</td>\n",
       "    </tr>\n",
       "    <tr>\n",
       "      <td>166</td>\n",
       "      <td>Daniela</td>\n",
       "      <td>19</td>\n",
       "      <td>Feminino</td>\n",
       "      <td>Sim</td>\n",
       "      <td>200</td>\n",
       "      <td>Sim</td>\n",
       "      <td>Comecei a fazer exercícios em casa</td>\n",
       "      <td>Sim</td>\n",
       "    </tr>\n",
       "    <tr>\n",
       "      <td>167</td>\n",
       "      <td>Ticiana Hissa</td>\n",
       "      <td>43</td>\n",
       "      <td>Feminino</td>\n",
       "      <td>Sim</td>\n",
       "      <td>3000</td>\n",
       "      <td>Não</td>\n",
       "      <td>Comecei a fazer exercícios em casa</td>\n",
       "      <td>Não</td>\n",
       "    </tr>\n",
       "    <tr>\n",
       "      <td>168</td>\n",
       "      <td>NaN</td>\n",
       "      <td>43</td>\n",
       "      <td>Masculino</td>\n",
       "      <td>Sim</td>\n",
       "      <td>360</td>\n",
       "      <td>Sim</td>\n",
       "      <td>Comecei a fazer exercícios em casa</td>\n",
       "      <td>Sim</td>\n",
       "    </tr>\n",
       "    <tr>\n",
       "      <td>169</td>\n",
       "      <td>Marcia</td>\n",
       "      <td>58</td>\n",
       "      <td>Feminino</td>\n",
       "      <td>Sim</td>\n",
       "      <td>6</td>\n",
       "      <td>Não</td>\n",
       "      <td>Comecei a fazer exercícios em casa</td>\n",
       "      <td>Sim</td>\n",
       "    </tr>\n",
       "  </tbody>\n",
       "</table>\n",
       "<p>170 rows × 8 columns</p>\n",
       "</div>"
      ],
      "text/plain": [
       "                                Nome\\n  Idade       Sexo   Ativa  Minutos  \\\n",
       "0                            Gabrielle     18   Feminino     Não       70   \n",
       "1                       Felipe Defendi     17  Masculino  Talvez       30   \n",
       "2                           Davi Bonsi     18  Masculino     Sim      300   \n",
       "3                    Isabela Domingues     17   Feminino     Não      120   \n",
       "4           Paola Gragnolati Fernandes     18   Feminino  Talvez      140   \n",
       "..                                 ...    ...        ...     ...      ...   \n",
       "165  Zuleika Syudart de lucena feitosa     56   Feminino     Sim      360   \n",
       "166                            Daniela     19   Feminino     Sim      200   \n",
       "167                      Ticiana Hissa     43   Feminino     Sim     3000   \n",
       "168                                NaN     43  Masculino     Sim      360   \n",
       "169                             Marcia     58   Feminino     Sim        6   \n",
       "\n",
       "    Influenciou                                       Superar Vontade  \n",
       "0           Sim            Comecei a fazer exercícios em casa  Talvez  \n",
       "1           Não                                        Outros     Sim  \n",
       "2           Sim  Fiquei dependente à reabertura das academias     Sim  \n",
       "3           Sim            Comecei a fazer exercícios em casa     Sim  \n",
       "4           Sim            Comecei a fazer exercícios em casa     Não  \n",
       "..          ...                                           ...     ...  \n",
       "165         Sim            Comecei a fazer exercícios em casa     Sim  \n",
       "166         Sim            Comecei a fazer exercícios em casa     Sim  \n",
       "167         Não            Comecei a fazer exercícios em casa     Não  \n",
       "168         Sim            Comecei a fazer exercícios em casa     Sim  \n",
       "169         Não            Comecei a fazer exercícios em casa     Sim  \n",
       "\n",
       "[170 rows x 8 columns]"
      ]
     },
     "execution_count": 168,
     "metadata": {},
     "output_type": "execute_result"
    }
   ],
   "source": [
    "dados = dados.drop(columns=['Carimbo de data/hora'])\n",
    "dados"
   ]
  },
  {
   "cell_type": "markdown",
   "metadata": {},
   "source": [
    "### Nome"
   ]
  },
  {
   "cell_type": "markdown",
   "metadata": {},
   "source": [
    "Para a análise do nosso problema, julgamos que essa coluna não possui nenhuma relação com o objetivo que estamos buscando, portanto, resolvemos tira-lá."
   ]
  },
  {
   "cell_type": "code",
   "execution_count": 169,
   "metadata": {},
   "outputs": [
    {
     "data": {
      "text/html": [
       "<div>\n",
       "<style scoped>\n",
       "    .dataframe tbody tr th:only-of-type {\n",
       "        vertical-align: middle;\n",
       "    }\n",
       "\n",
       "    .dataframe tbody tr th {\n",
       "        vertical-align: top;\n",
       "    }\n",
       "\n",
       "    .dataframe thead th {\n",
       "        text-align: right;\n",
       "    }\n",
       "</style>\n",
       "<table border=\"1\" class=\"dataframe\">\n",
       "  <thead>\n",
       "    <tr style=\"text-align: right;\">\n",
       "      <th></th>\n",
       "      <th>Idade</th>\n",
       "      <th>Sexo</th>\n",
       "      <th>Ativa</th>\n",
       "      <th>Minutos</th>\n",
       "      <th>Influenciou</th>\n",
       "      <th>Superar</th>\n",
       "      <th>Vontade</th>\n",
       "    </tr>\n",
       "  </thead>\n",
       "  <tbody>\n",
       "    <tr>\n",
       "      <td>0</td>\n",
       "      <td>18</td>\n",
       "      <td>Feminino</td>\n",
       "      <td>Não</td>\n",
       "      <td>70</td>\n",
       "      <td>Sim</td>\n",
       "      <td>Comecei a fazer exercícios em casa</td>\n",
       "      <td>Talvez</td>\n",
       "    </tr>\n",
       "    <tr>\n",
       "      <td>1</td>\n",
       "      <td>17</td>\n",
       "      <td>Masculino</td>\n",
       "      <td>Talvez</td>\n",
       "      <td>30</td>\n",
       "      <td>Não</td>\n",
       "      <td>Outros</td>\n",
       "      <td>Sim</td>\n",
       "    </tr>\n",
       "    <tr>\n",
       "      <td>2</td>\n",
       "      <td>18</td>\n",
       "      <td>Masculino</td>\n",
       "      <td>Sim</td>\n",
       "      <td>300</td>\n",
       "      <td>Sim</td>\n",
       "      <td>Fiquei dependente à reabertura das academias</td>\n",
       "      <td>Sim</td>\n",
       "    </tr>\n",
       "    <tr>\n",
       "      <td>3</td>\n",
       "      <td>17</td>\n",
       "      <td>Feminino</td>\n",
       "      <td>Não</td>\n",
       "      <td>120</td>\n",
       "      <td>Sim</td>\n",
       "      <td>Comecei a fazer exercícios em casa</td>\n",
       "      <td>Sim</td>\n",
       "    </tr>\n",
       "    <tr>\n",
       "      <td>4</td>\n",
       "      <td>18</td>\n",
       "      <td>Feminino</td>\n",
       "      <td>Talvez</td>\n",
       "      <td>140</td>\n",
       "      <td>Sim</td>\n",
       "      <td>Comecei a fazer exercícios em casa</td>\n",
       "      <td>Não</td>\n",
       "    </tr>\n",
       "    <tr>\n",
       "      <td>...</td>\n",
       "      <td>...</td>\n",
       "      <td>...</td>\n",
       "      <td>...</td>\n",
       "      <td>...</td>\n",
       "      <td>...</td>\n",
       "      <td>...</td>\n",
       "      <td>...</td>\n",
       "    </tr>\n",
       "    <tr>\n",
       "      <td>165</td>\n",
       "      <td>56</td>\n",
       "      <td>Feminino</td>\n",
       "      <td>Sim</td>\n",
       "      <td>360</td>\n",
       "      <td>Sim</td>\n",
       "      <td>Comecei a fazer exercícios em casa</td>\n",
       "      <td>Sim</td>\n",
       "    </tr>\n",
       "    <tr>\n",
       "      <td>166</td>\n",
       "      <td>19</td>\n",
       "      <td>Feminino</td>\n",
       "      <td>Sim</td>\n",
       "      <td>200</td>\n",
       "      <td>Sim</td>\n",
       "      <td>Comecei a fazer exercícios em casa</td>\n",
       "      <td>Sim</td>\n",
       "    </tr>\n",
       "    <tr>\n",
       "      <td>167</td>\n",
       "      <td>43</td>\n",
       "      <td>Feminino</td>\n",
       "      <td>Sim</td>\n",
       "      <td>3000</td>\n",
       "      <td>Não</td>\n",
       "      <td>Comecei a fazer exercícios em casa</td>\n",
       "      <td>Não</td>\n",
       "    </tr>\n",
       "    <tr>\n",
       "      <td>168</td>\n",
       "      <td>43</td>\n",
       "      <td>Masculino</td>\n",
       "      <td>Sim</td>\n",
       "      <td>360</td>\n",
       "      <td>Sim</td>\n",
       "      <td>Comecei a fazer exercícios em casa</td>\n",
       "      <td>Sim</td>\n",
       "    </tr>\n",
       "    <tr>\n",
       "      <td>169</td>\n",
       "      <td>58</td>\n",
       "      <td>Feminino</td>\n",
       "      <td>Sim</td>\n",
       "      <td>6</td>\n",
       "      <td>Não</td>\n",
       "      <td>Comecei a fazer exercícios em casa</td>\n",
       "      <td>Sim</td>\n",
       "    </tr>\n",
       "  </tbody>\n",
       "</table>\n",
       "<p>170 rows × 7 columns</p>\n",
       "</div>"
      ],
      "text/plain": [
       "     Idade       Sexo   Ativa  Minutos Influenciou  \\\n",
       "0       18   Feminino     Não       70         Sim   \n",
       "1       17  Masculino  Talvez       30         Não   \n",
       "2       18  Masculino     Sim      300         Sim   \n",
       "3       17   Feminino     Não      120         Sim   \n",
       "4       18   Feminino  Talvez      140         Sim   \n",
       "..     ...        ...     ...      ...         ...   \n",
       "165     56   Feminino     Sim      360         Sim   \n",
       "166     19   Feminino     Sim      200         Sim   \n",
       "167     43   Feminino     Sim     3000         Não   \n",
       "168     43  Masculino     Sim      360         Sim   \n",
       "169     58   Feminino     Sim        6         Não   \n",
       "\n",
       "                                          Superar Vontade  \n",
       "0              Comecei a fazer exercícios em casa  Talvez  \n",
       "1                                          Outros     Sim  \n",
       "2    Fiquei dependente à reabertura das academias     Sim  \n",
       "3              Comecei a fazer exercícios em casa     Sim  \n",
       "4              Comecei a fazer exercícios em casa     Não  \n",
       "..                                            ...     ...  \n",
       "165            Comecei a fazer exercícios em casa     Sim  \n",
       "166            Comecei a fazer exercícios em casa     Sim  \n",
       "167            Comecei a fazer exercícios em casa     Não  \n",
       "168            Comecei a fazer exercícios em casa     Sim  \n",
       "169            Comecei a fazer exercícios em casa     Sim  \n",
       "\n",
       "[170 rows x 7 columns]"
      ]
     },
     "execution_count": 169,
     "metadata": {},
     "output_type": "execute_result"
    }
   ],
   "source": [
    "dados = dados.drop(columns=['Nome\\n'])\n",
    "dados"
   ]
  },
  {
   "cell_type": "markdown",
   "metadata": {},
   "source": [
    "### Idade"
   ]
  },
  {
   "cell_type": "markdown",
   "metadata": {},
   "source": [
    "Para fazer a análise da idade das amostras contidas nos dados, decidimos analisar quais as idades que mais aparecem no nosso dataset, a média dessas idades e a distribuição delas."
   ]
  },
  {
   "cell_type": "code",
   "execution_count": 170,
   "metadata": {},
   "outputs": [
    {
     "data": {
      "text/plain": [
       "Text(0.5, 1.0, 'Distribuição das Idades dos participantes')"
      ]
     },
     "execution_count": 170,
     "metadata": {},
     "output_type": "execute_result"
    },
    {
     "data": {
      "image/png": "[encoded data removed]",
      "text/plain": [
       "<Figure size 1296x360 with 1 Axes>"
      ]
     },
     "metadata": {
      "needs_background": "light"
     },
     "output_type": "display_data"
    }
   ],
   "source": [
    "plt.figure(figsize=(18, 5))\n",
    "plt.hist(dados['Idade'], bins=50, density=True,\n",
    "color='blue', edgecolor='white',\n",
    "linewidth=1, alpha=0.8)\n",
    "plt.ylabel('Densidade')\n",
    "plt.xlabel('Idade (em anos)')\n",
    "plt.title('Distribuição das Idades dos participantes')"
   ]
  },
  {
   "cell_type": "code",
   "execution_count": 144,
   "metadata": {},
   "outputs": [
    {
     "data": {
      "text/plain": [
       "count    170.000000\n",
       "mean      32.523529\n",
       "std       16.190509\n",
       "min       12.000000\n",
       "25%       19.000000\n",
       "50%       21.000000\n",
       "75%       49.000000\n",
       "max       66.000000\n",
       "Name: Idade, dtype: float64"
      ]
     },
     "execution_count": 144,
     "metadata": {},
     "output_type": "execute_result"
    }
   ],
   "source": [
    "dados.Idade.describe()"
   ]
  },
  {
   "cell_type": "markdown",
   "metadata": {},
   "source": [
    "Pela análise da distribuição das idades dos participantes da pesquisa, podemos aferir que existe uma maior concentração de amostras com idades próximas de 19 anos, que pode ser justificado pelo maior alcance que temos no público dessa idade.\n",
    "\n",
    "Porém, obtivemos respostas de pessoas de diferentes idades, e por isso podemos repartir os nossos dados segundo faixas etárias para fazer uma análise focada especialmente em alguma dessas faixas."
   ]
  },
  {
   "cell_type": "markdown",
   "metadata": {},
   "source": [
    "### Sexo"
   ]
  },
  {
   "cell_type": "markdown",
   "metadata": {},
   "source": [
    "Acreditamos que não será necessária limpeza nessa variável pois representa algo pessoal das pessoas que participaram da nossa pesquisa."
   ]
  },
  {
   "cell_type": "code",
   "execution_count": 145,
   "metadata": {},
   "outputs": [
    {
     "data": {
      "text/plain": [
       "Feminino     0.564706\n",
       "Masculino    0.429412\n",
       "Outro        0.005882\n",
       "Name: Sexo, dtype: float64"
      ]
     },
     "execution_count": 145,
     "metadata": {},
     "output_type": "execute_result"
    }
   ],
   "source": [
    "dados.Sexo.value_counts(True)"
   ]
  },
  {
   "cell_type": "code",
   "execution_count": 146,
   "metadata": {},
   "outputs": [
    {
     "data": {
      "text/plain": [
       "<matplotlib.axes._subplots.AxesSubplot at 0x1c271fe710>"
      ]
     },
     "execution_count": 146,
     "metadata": {},
     "output_type": "execute_result"
    },
    {
     "data": {
      "image/png": "[encoded data removed]",
      "text/plain": [
       "<Figure size 432x288 with 1 Axes>"
      ]
     },
     "metadata": {},
     "output_type": "display_data"
    }
   ],
   "source": [
    "sexo = dados.Sexo.value_counts()\n",
    "sexo.plot(kind='pie', title='Sexo dos participantes', autopct=\"%.2f\")"
   ]
  },
  {
   "cell_type": "markdown",
   "metadata": {},
   "source": [
    "### Você se considera uma pessoa fisicamente ativa?"
   ]
  },
  {
   "cell_type": "markdown",
   "metadata": {},
   "source": [
    "Acreditamos que não será necessária limpeza nessa variável pois representa algo pessoal das pessoas que participaram da nossa pesquisa. Pórem, nesse caso, seremos capazes de analisar o que as pessoas julgam ser \"uma pessoa fisicamente ativa\", nos dando a possibilidade de observar nos dados as pessoas que realmente são fisicamente ativas e as que não são."
   ]
  },
  {
   "cell_type": "code",
   "execution_count": 147,
   "metadata": {},
   "outputs": [
    {
     "data": {
      "text/plain": [
       "Sim       0.676471\n",
       "Não       0.241176\n",
       "Talvez    0.082353\n",
       "Name: Ativa, dtype: float64"
      ]
     },
     "execution_count": 147,
     "metadata": {},
     "output_type": "execute_result"
    }
   ],
   "source": [
    "dados.Ativa.value_counts(True)"
   ]
  },
  {
   "cell_type": "code",
   "execution_count": 148,
   "metadata": {},
   "outputs": [
    {
     "data": {
      "text/plain": [
       "<matplotlib.axes._subplots.AxesSubplot at 0x1c2731a410>"
      ]
     },
     "execution_count": 148,
     "metadata": {},
     "output_type": "execute_result"
    },
    {
     "data": {
      "image/png": "[encoded data removed]",
      "text/plain": [
       "<Figure size 432x288 with 1 Axes>"
      ]
     },
     "metadata": {},
     "output_type": "display_data"
    }
   ],
   "source": [
    "ativa = dados.Ativa.value_counts()\n",
    "ativa.plot(kind='pie', title='Você se considera uma pessoa fisicamente ativa?', autopct=\"%.2f\")"
   ]
  },
  {
   "cell_type": "markdown",
   "metadata": {},
   "source": [
    "### Quantos MINUTOS de atividade física você faz durante a SEMANA?"
   ]
  },
  {
   "cell_type": "markdown",
   "metadata": {},
   "source": [
    "Para fazer a análise do tempo destinado a atividades físicas por semana das amostras contidas nos dados, decidimos analisar quais os tempos que mais aparecem no nosso dataset, a média dessas tempos e a distribuição deles."
   ]
  },
  {
   "cell_type": "code",
   "execution_count": 154,
   "metadata": {},
   "outputs": [
    {
     "data": {
      "text/plain": [
       "Text(0.5, 1.0, 'Distribuição da frequência de exercício dos participantes POR SEMANA')"
      ]
     },
     "execution_count": 154,
     "metadata": {},
     "output_type": "execute_result"
    },
    {
     "data": {
      "image/png": "[encoded data removed]",
      "text/plain": [
       "<Figure size 1296x360 with 1 Axes>"
      ]
     },
     "metadata": {
      "needs_background": "light"
     },
     "output_type": "display_data"
    }
   ],
   "source": [
    "plt.figure(figsize=(18, 5))\n",
    "plt.hist(dados['Minutos'], bins=75, density=True,\n",
    "color='blue', edgecolor='white',\n",
    "linewidth=1, alpha=0.8)\n",
    "plt.ylabel('Densidade')\n",
    "plt.xlabel('Tempo (em minutos)')\n",
    "plt.title('Distribuição da frequência de exercício dos participantes POR SEMANA')\n",
    "#plt.ylim(0,0.35)"
   ]
  },
  {
   "cell_type": "markdown",
   "metadata": {},
   "source": [
    "#### Dados menores que 10:"
   ]
  },
  {
   "cell_type": "markdown",
   "metadata": {},
   "source": [
    "Pela análise dos dados, percebemos que essa pergunta teve um grau de dificuldade de interpretação baseado nas respostas que obtivemos, pois acreditamos que algumas amostras apresentam parâmetros diferentes do que haviamos perguntando, como VEZES que realiza exercícios durante a semana ou HORAS que realiza exercícios durante a semana.\n",
    "\n",
    "Considerando esses possíveis erros de interpretação, decidimos contabilizar apenas os dados que apresentam um número maior que 10 minutos de exercícios físicos por semana, incluindo também as amostras que apresentaram o número 0, pois independente da interpretação, a pergunta receberia a mesma resposta."
   ]
  },
  {
   "cell_type": "code",
   "execution_count": 171,
   "metadata": {},
   "outputs": [
    {
     "data": {
      "text/html": [
       "<div>\n",
       "<style scoped>\n",
       "    .dataframe tbody tr th:only-of-type {\n",
       "        vertical-align: middle;\n",
       "    }\n",
       "\n",
       "    .dataframe tbody tr th {\n",
       "        vertical-align: top;\n",
       "    }\n",
       "\n",
       "    .dataframe thead th {\n",
       "        text-align: right;\n",
       "    }\n",
       "</style>\n",
       "<table border=\"1\" class=\"dataframe\">\n",
       "  <thead>\n",
       "    <tr style=\"text-align: right;\">\n",
       "      <th></th>\n",
       "      <th>Idade</th>\n",
       "      <th>Sexo</th>\n",
       "      <th>Ativa</th>\n",
       "      <th>Minutos</th>\n",
       "      <th>Influenciou</th>\n",
       "      <th>Superar</th>\n",
       "      <th>Vontade</th>\n",
       "    </tr>\n",
       "  </thead>\n",
       "  <tbody>\n",
       "    <tr>\n",
       "      <td>13</td>\n",
       "      <td>20</td>\n",
       "      <td>Masculino</td>\n",
       "      <td>Sim</td>\n",
       "      <td>5</td>\n",
       "      <td>Sim</td>\n",
       "      <td>Outros</td>\n",
       "      <td>Sim</td>\n",
       "    </tr>\n",
       "    <tr>\n",
       "      <td>39</td>\n",
       "      <td>18</td>\n",
       "      <td>Feminino</td>\n",
       "      <td>Não</td>\n",
       "      <td>2</td>\n",
       "      <td>Sim</td>\n",
       "      <td>Outros</td>\n",
       "      <td>Não</td>\n",
       "    </tr>\n",
       "    <tr>\n",
       "      <td>44</td>\n",
       "      <td>15</td>\n",
       "      <td>Feminino</td>\n",
       "      <td>Sim</td>\n",
       "      <td>8</td>\n",
       "      <td>Sim</td>\n",
       "      <td>Comecei a fazer exercícios em casa</td>\n",
       "      <td>Talvez</td>\n",
       "    </tr>\n",
       "    <tr>\n",
       "      <td>46</td>\n",
       "      <td>50</td>\n",
       "      <td>Masculino</td>\n",
       "      <td>Sim</td>\n",
       "      <td>9</td>\n",
       "      <td>Sim</td>\n",
       "      <td>Comecei a fazer exercícios em casa</td>\n",
       "      <td>Não</td>\n",
       "    </tr>\n",
       "    <tr>\n",
       "      <td>51</td>\n",
       "      <td>19</td>\n",
       "      <td>Masculino</td>\n",
       "      <td>Não</td>\n",
       "      <td>5</td>\n",
       "      <td>Sim</td>\n",
       "      <td>Fiquei dependente à reabertura das academias</td>\n",
       "      <td>Sim</td>\n",
       "    </tr>\n",
       "    <tr>\n",
       "      <td>53</td>\n",
       "      <td>17</td>\n",
       "      <td>Feminino</td>\n",
       "      <td>Sim</td>\n",
       "      <td>3</td>\n",
       "      <td>Não</td>\n",
       "      <td>Fiquei dependente à reabertura das academias</td>\n",
       "      <td>Sim</td>\n",
       "    </tr>\n",
       "    <tr>\n",
       "      <td>54</td>\n",
       "      <td>19</td>\n",
       "      <td>Masculino</td>\n",
       "      <td>Sim</td>\n",
       "      <td>8</td>\n",
       "      <td>Sim</td>\n",
       "      <td>Comecei a fazer exercícios em casa</td>\n",
       "      <td>Sim</td>\n",
       "    </tr>\n",
       "    <tr>\n",
       "      <td>58</td>\n",
       "      <td>18</td>\n",
       "      <td>Feminino</td>\n",
       "      <td>Sim</td>\n",
       "      <td>7</td>\n",
       "      <td>Sim</td>\n",
       "      <td>Comecei a fazer exercícios em casa</td>\n",
       "      <td>Não</td>\n",
       "    </tr>\n",
       "    <tr>\n",
       "      <td>76</td>\n",
       "      <td>20</td>\n",
       "      <td>Feminino</td>\n",
       "      <td>Sim</td>\n",
       "      <td>5</td>\n",
       "      <td>Sim</td>\n",
       "      <td>Comecei a fazer exercícios em casa</td>\n",
       "      <td>Talvez</td>\n",
       "    </tr>\n",
       "    <tr>\n",
       "      <td>82</td>\n",
       "      <td>19</td>\n",
       "      <td>Masculino</td>\n",
       "      <td>Não</td>\n",
       "      <td>5</td>\n",
       "      <td>Sim</td>\n",
       "      <td>Fiquei dependente à reabertura das academias</td>\n",
       "      <td>Sim</td>\n",
       "    </tr>\n",
       "    <tr>\n",
       "      <td>89</td>\n",
       "      <td>19</td>\n",
       "      <td>Masculino</td>\n",
       "      <td>Não</td>\n",
       "      <td>5</td>\n",
       "      <td>Sim</td>\n",
       "      <td>Fiquei dependente à reabertura das academias</td>\n",
       "      <td>Sim</td>\n",
       "    </tr>\n",
       "    <tr>\n",
       "      <td>90</td>\n",
       "      <td>52</td>\n",
       "      <td>Feminino</td>\n",
       "      <td>Sim</td>\n",
       "      <td>8</td>\n",
       "      <td>Sim</td>\n",
       "      <td>Comecei a fazer exercícios em casa</td>\n",
       "      <td>Sim</td>\n",
       "    </tr>\n",
       "    <tr>\n",
       "      <td>94</td>\n",
       "      <td>49</td>\n",
       "      <td>Masculino</td>\n",
       "      <td>Sim</td>\n",
       "      <td>6</td>\n",
       "      <td>Sim</td>\n",
       "      <td>Comecei a fazer exercícios em casa</td>\n",
       "      <td>Sim</td>\n",
       "    </tr>\n",
       "    <tr>\n",
       "      <td>102</td>\n",
       "      <td>58</td>\n",
       "      <td>Feminino</td>\n",
       "      <td>Sim</td>\n",
       "      <td>6</td>\n",
       "      <td>Não</td>\n",
       "      <td>Comecei a fazer exercícios em casa</td>\n",
       "      <td>Sim</td>\n",
       "    </tr>\n",
       "    <tr>\n",
       "      <td>105</td>\n",
       "      <td>53</td>\n",
       "      <td>Masculino</td>\n",
       "      <td>Sim</td>\n",
       "      <td>5</td>\n",
       "      <td>Não</td>\n",
       "      <td>Consegui continuar com o mesmo plano de exercí...</td>\n",
       "      <td>Talvez</td>\n",
       "    </tr>\n",
       "    <tr>\n",
       "      <td>113</td>\n",
       "      <td>42</td>\n",
       "      <td>Masculino</td>\n",
       "      <td>Sim</td>\n",
       "      <td>8</td>\n",
       "      <td>Sim</td>\n",
       "      <td>Comecei a fazer exercícios em casa</td>\n",
       "      <td>Sim</td>\n",
       "    </tr>\n",
       "    <tr>\n",
       "      <td>115</td>\n",
       "      <td>57</td>\n",
       "      <td>Feminino</td>\n",
       "      <td>Sim</td>\n",
       "      <td>9</td>\n",
       "      <td>Sim</td>\n",
       "      <td>Comecei a fazer exercícios em casa</td>\n",
       "      <td>Sim</td>\n",
       "    </tr>\n",
       "    <tr>\n",
       "      <td>120</td>\n",
       "      <td>19</td>\n",
       "      <td>Masculino</td>\n",
       "      <td>Não</td>\n",
       "      <td>5</td>\n",
       "      <td>Sim</td>\n",
       "      <td>Fiquei dependente à reabertura das academias</td>\n",
       "      <td>Sim</td>\n",
       "    </tr>\n",
       "    <tr>\n",
       "      <td>124</td>\n",
       "      <td>19</td>\n",
       "      <td>Masculino</td>\n",
       "      <td>Não</td>\n",
       "      <td>5</td>\n",
       "      <td>Sim</td>\n",
       "      <td>Fiquei dependente à reabertura das academias</td>\n",
       "      <td>Sim</td>\n",
       "    </tr>\n",
       "    <tr>\n",
       "      <td>134</td>\n",
       "      <td>45</td>\n",
       "      <td>Feminino</td>\n",
       "      <td>Sim</td>\n",
       "      <td>5</td>\n",
       "      <td>Sim</td>\n",
       "      <td>Comecei a fazer exercícios em casa</td>\n",
       "      <td>Sim</td>\n",
       "    </tr>\n",
       "    <tr>\n",
       "      <td>154</td>\n",
       "      <td>18</td>\n",
       "      <td>Feminino</td>\n",
       "      <td>Sim</td>\n",
       "      <td>7</td>\n",
       "      <td>Sim</td>\n",
       "      <td>Comecei a fazer exercícios em casa</td>\n",
       "      <td>Não</td>\n",
       "    </tr>\n",
       "    <tr>\n",
       "      <td>155</td>\n",
       "      <td>18</td>\n",
       "      <td>Feminino</td>\n",
       "      <td>Não</td>\n",
       "      <td>1</td>\n",
       "      <td>Sim</td>\n",
       "      <td>Fiquei dependente à reabertura das academias</td>\n",
       "      <td>Sim</td>\n",
       "    </tr>\n",
       "    <tr>\n",
       "      <td>169</td>\n",
       "      <td>58</td>\n",
       "      <td>Feminino</td>\n",
       "      <td>Sim</td>\n",
       "      <td>6</td>\n",
       "      <td>Não</td>\n",
       "      <td>Comecei a fazer exercícios em casa</td>\n",
       "      <td>Sim</td>\n",
       "    </tr>\n",
       "  </tbody>\n",
       "</table>\n",
       "</div>"
      ],
      "text/plain": [
       "     Idade       Sexo Ativa  Minutos Influenciou  \\\n",
       "13      20  Masculino   Sim        5         Sim   \n",
       "39      18   Feminino   Não        2         Sim   \n",
       "44      15   Feminino   Sim        8         Sim   \n",
       "46      50  Masculino   Sim        9         Sim   \n",
       "51      19  Masculino   Não        5         Sim   \n",
       "53      17   Feminino   Sim        3         Não   \n",
       "54      19  Masculino   Sim        8         Sim   \n",
       "58      18   Feminino   Sim        7         Sim   \n",
       "76      20   Feminino   Sim        5         Sim   \n",
       "82      19  Masculino   Não        5         Sim   \n",
       "89      19  Masculino   Não        5         Sim   \n",
       "90      52   Feminino   Sim        8         Sim   \n",
       "94      49  Masculino   Sim        6         Sim   \n",
       "102     58   Feminino   Sim        6         Não   \n",
       "105     53  Masculino   Sim        5         Não   \n",
       "113     42  Masculino   Sim        8         Sim   \n",
       "115     57   Feminino   Sim        9         Sim   \n",
       "120     19  Masculino   Não        5         Sim   \n",
       "124     19  Masculino   Não        5         Sim   \n",
       "134     45   Feminino   Sim        5         Sim   \n",
       "154     18   Feminino   Sim        7         Sim   \n",
       "155     18   Feminino   Não        1         Sim   \n",
       "169     58   Feminino   Sim        6         Não   \n",
       "\n",
       "                                               Superar Vontade  \n",
       "13                                              Outros     Sim  \n",
       "39                                              Outros     Não  \n",
       "44                  Comecei a fazer exercícios em casa  Talvez  \n",
       "46                  Comecei a fazer exercícios em casa     Não  \n",
       "51        Fiquei dependente à reabertura das academias     Sim  \n",
       "53        Fiquei dependente à reabertura das academias     Sim  \n",
       "54                  Comecei a fazer exercícios em casa     Sim  \n",
       "58                  Comecei a fazer exercícios em casa     Não  \n",
       "76                  Comecei a fazer exercícios em casa  Talvez  \n",
       "82        Fiquei dependente à reabertura das academias     Sim  \n",
       "89        Fiquei dependente à reabertura das academias     Sim  \n",
       "90                  Comecei a fazer exercícios em casa     Sim  \n",
       "94                  Comecei a fazer exercícios em casa     Sim  \n",
       "102                 Comecei a fazer exercícios em casa     Sim  \n",
       "105  Consegui continuar com o mesmo plano de exercí...  Talvez  \n",
       "113                 Comecei a fazer exercícios em casa     Sim  \n",
       "115                 Comecei a fazer exercícios em casa     Sim  \n",
       "120       Fiquei dependente à reabertura das academias     Sim  \n",
       "124       Fiquei dependente à reabertura das academias     Sim  \n",
       "134                 Comecei a fazer exercícios em casa     Sim  \n",
       "154                 Comecei a fazer exercícios em casa     Não  \n",
       "155       Fiquei dependente à reabertura das academias     Sim  \n",
       "169                 Comecei a fazer exercícios em casa     Sim  "
      ]
     },
     "execution_count": 171,
     "metadata": {},
     "output_type": "execute_result"
    }
   ],
   "source": [
    "#y = dados.loc[dados['Minutos'] > 0 & dados['Minutos'] < 10, :]\n",
    "menor_10_diferente_0 = dados.loc[(dados['Minutos']<10) & (dados['Minutos']!=0)]\n",
    "menor_10_diferente_0\n",
    "#dados = dados.drop(y)\n",
    "#dados = dados.drop(dados[dados['Minutos'] > 0  dados['Minutos'] < 10].index)"
   ]
  },
  {
   "cell_type": "code",
   "execution_count": 172,
   "metadata": {
    "scrolled": true
   },
   "outputs": [],
   "source": [
    "#dados_limpo = dados.drop(menor_10_diferente_0.index)\n",
    "#dados_limpo\n",
    "dados = dados.drop(menor_10_diferente_0.index)\n",
    "#dados"
   ]
  },
  {
   "cell_type": "code",
   "execution_count": 173,
   "metadata": {},
   "outputs": [
    {
     "data": {
      "text/plain": [
       "Text(0.5, 1.0, 'Distribuição da frequência de exercício dos participantes POR SEMANA')"
      ]
     },
     "execution_count": 173,
     "metadata": {},
     "output_type": "execute_result"
    },
    {
     "data": {
      "image/png": "[encoded data removed]",
      "text/plain": [
       "<Figure size 1296x360 with 1 Axes>"
      ]
     },
     "metadata": {
      "needs_background": "light"
     },
     "output_type": "display_data"
    }
   ],
   "source": [
    "plt.figure(figsize=(18, 5))\n",
    "plt.hist(dados['Minutos'], bins=75, density=True,\n",
    "color='blue', edgecolor='white',\n",
    "linewidth=1, alpha=0.8)\n",
    "plt.ylabel('Densidade')\n",
    "plt.xlabel('Tempo (em minutos)')\n",
    "plt.title('Distribuição da frequência de exercício dos participantes POR SEMANA')"
   ]
  },
  {
   "cell_type": "markdown",
   "metadata": {},
   "source": [
    "#### OUTRO RACIOCÍNIO, MAS NÃO USADO"
   ]
  },
  {
   "cell_type": "code",
   "execution_count": 174,
   "metadata": {},
   "outputs": [],
   "source": [
    "minutos_menor_7 = dados['Minutos'] < 7\n",
    "sim = dados['Ativa'] == 'Sim'"
   ]
  },
  {
   "cell_type": "code",
   "execution_count": 90,
   "metadata": {},
   "outputs": [
    {
     "data": {
      "text/html": [
       "<div>\n",
       "<style scoped>\n",
       "    .dataframe tbody tr th:only-of-type {\n",
       "        vertical-align: middle;\n",
       "    }\n",
       "\n",
       "    .dataframe tbody tr th {\n",
       "        vertical-align: top;\n",
       "    }\n",
       "\n",
       "    .dataframe thead th {\n",
       "        text-align: right;\n",
       "    }\n",
       "</style>\n",
       "<table border=\"1\" class=\"dataframe\">\n",
       "  <thead>\n",
       "    <tr style=\"text-align: right;\">\n",
       "      <th></th>\n",
       "      <th>Idade</th>\n",
       "      <th>Sexo</th>\n",
       "      <th>Ativa</th>\n",
       "      <th>Minutos</th>\n",
       "      <th>Influenciou</th>\n",
       "      <th>Superar</th>\n",
       "      <th>Vontade</th>\n",
       "    </tr>\n",
       "  </thead>\n",
       "  <tbody>\n",
       "    <tr>\n",
       "      <td>13</td>\n",
       "      <td>20</td>\n",
       "      <td>Masculino</td>\n",
       "      <td>Sim</td>\n",
       "      <td>5</td>\n",
       "      <td>Sim</td>\n",
       "      <td>Outros</td>\n",
       "      <td>Sim</td>\n",
       "    </tr>\n",
       "    <tr>\n",
       "      <td>53</td>\n",
       "      <td>17</td>\n",
       "      <td>Feminino</td>\n",
       "      <td>Sim</td>\n",
       "      <td>3</td>\n",
       "      <td>Não</td>\n",
       "      <td>Fiquei dependente à reabertura das academias</td>\n",
       "      <td>Sim</td>\n",
       "    </tr>\n",
       "    <tr>\n",
       "      <td>76</td>\n",
       "      <td>20</td>\n",
       "      <td>Feminino</td>\n",
       "      <td>Sim</td>\n",
       "      <td>5</td>\n",
       "      <td>Sim</td>\n",
       "      <td>Comecei a fazer exercícios em casa</td>\n",
       "      <td>Talvez</td>\n",
       "    </tr>\n",
       "    <tr>\n",
       "      <td>94</td>\n",
       "      <td>49</td>\n",
       "      <td>Masculino</td>\n",
       "      <td>Sim</td>\n",
       "      <td>6</td>\n",
       "      <td>Sim</td>\n",
       "      <td>Comecei a fazer exercícios em casa</td>\n",
       "      <td>Sim</td>\n",
       "    </tr>\n",
       "    <tr>\n",
       "      <td>102</td>\n",
       "      <td>58</td>\n",
       "      <td>Feminino</td>\n",
       "      <td>Sim</td>\n",
       "      <td>6</td>\n",
       "      <td>Não</td>\n",
       "      <td>Comecei a fazer exercícios em casa</td>\n",
       "      <td>Sim</td>\n",
       "    </tr>\n",
       "    <tr>\n",
       "      <td>105</td>\n",
       "      <td>53</td>\n",
       "      <td>Masculino</td>\n",
       "      <td>Sim</td>\n",
       "      <td>5</td>\n",
       "      <td>Não</td>\n",
       "      <td>Consegui continuar com o mesmo plano de exercí...</td>\n",
       "      <td>Talvez</td>\n",
       "    </tr>\n",
       "    <tr>\n",
       "      <td>134</td>\n",
       "      <td>45</td>\n",
       "      <td>Feminino</td>\n",
       "      <td>Sim</td>\n",
       "      <td>5</td>\n",
       "      <td>Sim</td>\n",
       "      <td>Comecei a fazer exercícios em casa</td>\n",
       "      <td>Sim</td>\n",
       "    </tr>\n",
       "    <tr>\n",
       "      <td>169</td>\n",
       "      <td>58</td>\n",
       "      <td>Feminino</td>\n",
       "      <td>Sim</td>\n",
       "      <td>6</td>\n",
       "      <td>Não</td>\n",
       "      <td>Comecei a fazer exercícios em casa</td>\n",
       "      <td>Sim</td>\n",
       "    </tr>\n",
       "  </tbody>\n",
       "</table>\n",
       "</div>"
      ],
      "text/plain": [
       "     Idade       Sexo Ativa  Minutos Influenciou  \\\n",
       "13      20  Masculino   Sim        5         Sim   \n",
       "53      17   Feminino   Sim        3         Não   \n",
       "76      20   Feminino   Sim        5         Sim   \n",
       "94      49  Masculino   Sim        6         Sim   \n",
       "102     58   Feminino   Sim        6         Não   \n",
       "105     53  Masculino   Sim        5         Não   \n",
       "134     45   Feminino   Sim        5         Sim   \n",
       "169     58   Feminino   Sim        6         Não   \n",
       "\n",
       "                                               Superar Vontade  \n",
       "13                                              Outros     Sim  \n",
       "53        Fiquei dependente à reabertura das academias     Sim  \n",
       "76                  Comecei a fazer exercícios em casa  Talvez  \n",
       "94                  Comecei a fazer exercícios em casa     Sim  \n",
       "102                 Comecei a fazer exercícios em casa     Sim  \n",
       "105  Consegui continuar com o mesmo plano de exercí...  Talvez  \n",
       "134                 Comecei a fazer exercícios em casa     Sim  \n",
       "169                 Comecei a fazer exercícios em casa     Sim  "
      ]
     },
     "execution_count": 90,
     "metadata": {},
     "output_type": "execute_result"
    }
   ],
   "source": [
    "menor_7_sim = dados.loc[minutos_menor_7 & sim, :]\n",
    "menor_7_sim"
   ]
  },
  {
   "cell_type": "code",
   "execution_count": 93,
   "metadata": {},
   "outputs": [
    {
     "data": {
      "text/plain": [
       "13     300\n",
       "53     180\n",
       "76     300\n",
       "94     360\n",
       "102    360\n",
       "105    300\n",
       "134    300\n",
       "169    360\n",
       "Name: Minutos, dtype: int64"
      ]
     },
     "execution_count": 93,
     "metadata": {},
     "output_type": "execute_result"
    }
   ],
   "source": [
    "x = menor_7_sim.Minutos*60\n",
    "x"
   ]
  },
  {
   "cell_type": "code",
   "execution_count": null,
   "metadata": {},
   "outputs": [],
   "source": [
    "menor_7_sim = dados.loc[minutos_menor_7 & sim, :]\n",
    "menor_7_sim"
   ]
  },
  {
   "cell_type": "markdown",
   "metadata": {},
   "source": [
    "#### Valores aberrantes:"
   ]
  },
  {
   "cell_type": "markdown",
   "metadata": {},
   "source": [
    "Pela análise do histograma, podemos perceber a existência de um valor aberrante, e quando fomos analisá-lo, descobrimos que ele poderia ser um erro nas respostas do formulário, pois representa uma média de 7,14 horas por dia, algo humanamente impróvavel."
   ]
  },
  {
   "cell_type": "code",
   "execution_count": 175,
   "metadata": {},
   "outputs": [],
   "source": [
    "dados = dados.drop(dados[dados['Minutos'] > 1000].index)"
   ]
  },
  {
   "cell_type": "code",
   "execution_count": 176,
   "metadata": {},
   "outputs": [
    {
     "data": {
      "text/plain": [
       "Text(0.5, 1.0, 'Distribuição da frequência de exercício dos participantes POR SEMANA')"
      ]
     },
     "execution_count": 176,
     "metadata": {},
     "output_type": "execute_result"
    },
    {
     "data": {
      "image/png": "[encoded data removed]",
      "text/plain": [
       "<Figure size 1296x360 with 1 Axes>"
      ]
     },
     "metadata": {
      "needs_background": "light"
     },
     "output_type": "display_data"
    }
   ],
   "source": [
    "plt.figure(figsize=(18, 5))\n",
    "plt.hist(dados['Minutos'], bins=75, density=True,\n",
    "color='blue', edgecolor='white',\n",
    "linewidth=1, alpha=0.8)\n",
    "plt.ylabel('Densidade')\n",
    "plt.xlabel('Tempo (em minutos)')\n",
    "plt.title('Distribuição da frequência de exercício dos participantes POR SEMANA')"
   ]
  },
  {
   "cell_type": "markdown",
   "metadata": {},
   "source": [
    "#### Descrição da variável"
   ]
  },
  {
   "cell_type": "code",
   "execution_count": 177,
   "metadata": {},
   "outputs": [
    {
     "data": {
      "text/plain": [
       "count    145.000000\n",
       "mean     237.951724\n",
       "std      163.763902\n",
       "min        0.000000\n",
       "25%      120.000000\n",
       "50%      240.000000\n",
       "75%      360.000000\n",
       "max      840.000000\n",
       "Name: Minutos, dtype: float64"
      ]
     },
     "execution_count": 177,
     "metadata": {},
     "output_type": "execute_result"
    }
   ],
   "source": [
    "dados.Minutos.describe()"
   ]
  },
  {
   "cell_type": "markdown",
   "metadata": {},
   "source": [
    "Realizando uma análise dos resultados, podemos perceber que obtivemos uma média de aproximadamente 206.16 minutos de exercícios por semana, com a "
   ]
  },
  {
   "cell_type": "markdown",
   "metadata": {},
   "source": [
    "### A pandemia influenciou a sua prática de atividades físicas?"
   ]
  },
  {
   "cell_type": "markdown",
   "metadata": {},
   "source": [
    "Acreditamos que não será necessária limpeza nessa variável pois representa algo pessoal das pessoas que participaram da nossa pesquisa."
   ]
  },
  {
   "cell_type": "code",
   "execution_count": 48,
   "metadata": {},
   "outputs": [
    {
     "data": {
      "text/plain": [
       "Sim    0.776471\n",
       "Não    0.223529\n",
       "Name: Influenciou, dtype: float64"
      ]
     },
     "execution_count": 48,
     "metadata": {},
     "output_type": "execute_result"
    }
   ],
   "source": [
    "dados.Influenciou.value_counts(True)"
   ]
  },
  {
   "cell_type": "code",
   "execution_count": 43,
   "metadata": {},
   "outputs": [
    {
     "data": {
      "text/plain": [
       "<matplotlib.axes._subplots.AxesSubplot at 0x1c25c6cf50>"
      ]
     },
     "execution_count": 43,
     "metadata": {},
     "output_type": "execute_result"
    },
    {
     "data": {
      "image/png": "[encoded data removed]",
      "text/plain": [
       "<Figure size 432x288 with 1 Axes>"
      ]
     },
     "metadata": {},
     "output_type": "display_data"
    }
   ],
   "source": [
    "influenciou = dados.Influenciou.value_counts()\n",
    "influenciou.plot(kind='pie', title='A pandemia influenciou a sua prática de atividades físicas?', autopct=\"%.2f\")"
   ]
  },
  {
   "cell_type": "markdown",
   "metadata": {},
   "source": [
    "### O que você fez para superar as barreiras que a pandemia impôs a prática de atividades físicas?"
   ]
  },
  {
   "cell_type": "markdown",
   "metadata": {},
   "source": [
    "Acreditamos que não será necessária limpeza nessa variável pois representa algo pessoal das pessoas que participaram da nossa pesquisa."
   ]
  },
  {
   "cell_type": "code",
   "execution_count": 49,
   "metadata": {},
   "outputs": [
    {
     "data": {
      "text/plain": [
       "Comecei a fazer exercícios em casa                                 0.552941\n",
       "Outros                                                             0.152941\n",
       "Fiquei dependente à reabertura das academias                       0.123529\n",
       "Dei preferência a atividades individuais                           0.105882\n",
       "Consegui continuar com o mesmo plano de exercícios que já tinha    0.064706\n",
       "Name: Superar, dtype: float64"
      ]
     },
     "execution_count": 49,
     "metadata": {},
     "output_type": "execute_result"
    }
   ],
   "source": [
    "dados.Superar.value_counts(True)"
   ]
  },
  {
   "cell_type": "code",
   "execution_count": 44,
   "metadata": {},
   "outputs": [
    {
     "data": {
      "text/plain": [
       "<matplotlib.axes._subplots.AxesSubplot at 0x1c25ee1c90>"
      ]
     },
     "execution_count": 44,
     "metadata": {},
     "output_type": "execute_result"
    },
    {
     "data": {
      "image/png": "[encoded data removed]",
      "text/plain": [
       "<Figure size 432x288 with 1 Axes>"
      ]
     },
     "metadata": {},
     "output_type": "display_data"
    }
   ],
   "source": [
    "superar = dados.Superar.value_counts()\n",
    "superar.plot(kind='pie', title='O que você fez para superar as barreiras que a pandemia impôs a prática de atividades físicas?', autopct=\"%.2f\")"
   ]
  },
  {
   "cell_type": "markdown",
   "metadata": {},
   "source": [
    "### Você sente a vontade de realizar atividades físicas em maior frequência?"
   ]
  },
  {
   "cell_type": "markdown",
   "metadata": {},
   "source": [
    "Acreditamos que não será necessária limpeza nessa variável pois representa algo pessoal das pessoas que participaram da nossa pesquisa."
   ]
  },
  {
   "cell_type": "code",
   "execution_count": 50,
   "metadata": {},
   "outputs": [
    {
     "data": {
      "text/plain": [
       "Sim       0.723529\n",
       "Não       0.141176\n",
       "Talvez    0.135294\n",
       "Name: Vontade, dtype: float64"
      ]
     },
     "execution_count": 50,
     "metadata": {},
     "output_type": "execute_result"
    }
   ],
   "source": [
    "dados.Vontade.value_counts(True)"
   ]
  },
  {
   "cell_type": "code",
   "execution_count": 45,
   "metadata": {},
   "outputs": [
    {
     "data": {
      "text/plain": [
       "<matplotlib.axes._subplots.AxesSubplot at 0x1c25fa8b50>"
      ]
     },
     "execution_count": 45,
     "metadata": {},
     "output_type": "execute_result"
    },
    {
     "data": {
      "image/png": "[encoded data removed]",
      "text/plain": [
       "<Figure size 432x288 with 1 Axes>"
      ]
     },
     "metadata": {},
     "output_type": "display_data"
    }
   ],
   "source": [
    "vontade = dados.Vontade.value_counts()\n",
    "vontade.plot(kind='pie', title='Você sente a vontade de realizar atividades físicas em maior frequência?', autopct=\"%.2f\")"
   ]
  }
 ],
 "metadata": {
  "kernelspec": {
   "display_name": "Python 3",
   "language": "python",
   "name": "python3"
  },
  "language_info": {
   "codemirror_mode": {
    "name": "ipython",
    "version": 3
   },
   "file_extension": ".py",
   "mimetype": "text/x-python",
   "name": "python",
   "nbconvert_exporter": "python",
   "pygments_lexer": "ipython3",
   "version": "3.7.4"
  }
 },
 "nbformat": 4,
 "nbformat_minor": 2
}
